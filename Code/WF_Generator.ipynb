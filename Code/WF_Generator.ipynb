{
 "cells": [
  {
   "cell_type": "code",
   "execution_count": 13,
   "id": "01cdb617",
   "metadata": {
    "executionInfo": {
     "elapsed": 143,
     "status": "ok",
     "timestamp": 1682472187270,
     "user": {
      "displayName": "Eunbi Han",
      "userId": "01734688534469709697"
     },
     "user_tz": 300
    },
    "id": "01cdb617"
   },
   "outputs": [],
   "source": [
    "from __future__ import print_function\n",
    "import random as rand\n",
    "import math, random\n",
    "import matplotlib.pyplot as plt\n",
    "import networkx as nx\n",
    "import import_ipynb\n",
    "import sys\n",
    "import argparse"
   ]
  },
  {
   "cell_type": "code",
   "execution_count": 14,
   "id": "8jAxWMmAIYO9",
   "metadata": {
    "colab": {
     "base_uri": "https://localhost:8080/"
    },
    "executionInfo": {
     "elapsed": 5829,
     "status": "ok",
     "timestamp": 1682472193611,
     "user": {
      "displayName": "Eunbi Han",
      "userId": "01734688534469709697"
     },
     "user_tz": 300
    },
    "id": "8jAxWMmAIYO9",
    "outputId": "4c84fc54-b94c-412f-b309-e5a25d592566"
   },
   "outputs": [
    {
     "name": "stdout",
     "output_type": "stream",
     "text": [
      "Looking in indexes: https://pypi.org/simple, https://us-python.pkg.dev/colab-wheels/public/simple/\n",
      "Requirement already satisfied: parameter in /usr/local/lib/python3.9/dist-packages (0.0.3.dev2)\n"
     ]
    }
   ],
   "source": [
    "pip install parameter"
   ]
  },
  {
   "cell_type": "code",
   "execution_count": 15,
   "id": "40dfc420",
   "metadata": {
    "executionInfo": {
     "elapsed": 12,
     "status": "ok",
     "timestamp": 1682472193612,
     "user": {
      "displayName": "Eunbi Han",
      "userId": "01734688534469709697"
     },
     "user_tz": 300
    },
    "id": "40dfc420"
   },
   "outputs": [],
   "source": [
    "from parameter import *"
   ]
  },
  {
   "cell_type": "code",
   "execution_count": 16,
   "id": "729a028a",
   "metadata": {
    "executionInfo": {
     "elapsed": 10,
     "status": "ok",
     "timestamp": 1682472193612,
     "user": {
      "displayName": "Eunbi Han",
      "userId": "01734688534469709697"
     },
     "user_tz": 300
    },
    "id": "729a028a"
   },
   "outputs": [],
   "source": [
    "#parameter setup\n",
    "if __name__ == \"__main__\":\n",
    "    # remove the first argument (kernel)\n",
    "    #sys.argv.pop(0)\n",
    "    if len(sys.argv) > 0:\n",
    "        sys.argv.pop(0)\n",
    "\n",
    "    parser = argparse.ArgumentParser( prog='my_program',description='scheduling_simulator')"
   ]
  },
  {
   "cell_type": "code",
   "execution_count": 17,
   "id": "e94eeac8",
   "metadata": {
    "colab": {
     "base_uri": "https://localhost:8080/"
    },
    "executionInfo": {
     "elapsed": 9,
     "status": "ok",
     "timestamp": 1682472193612,
     "user": {
      "displayName": "Eunbi Han",
      "userId": "01734688534469709697"
     },
     "user_tz": 300
    },
    "id": "e94eeac8",
    "outputId": "b48598a1-2152-4839-c6bf-0ba7b8746523"
   },
   "outputs": [
    {
     "data": {
      "text/plain": [
       "_StoreAction(option_strings=['--bin_size'], dest='bin_size', nargs=None, const=None, default=60, type=<class 'int'>, choices=None, required=False, help='cluster utilization record bin size in minute', metavar=None)"
      ]
     },
     "execution_count": 17,
     "metadata": {},
     "output_type": "execute_result"
    }
   ],
   "source": [
    "#Simulation setup (Workflow parameter)\n",
    "parser.add_argument('--num_run', type=int, default=10)\n",
    "parser.add_argument('--Width', type=int, default=3) \n",
    "#max number of parallel tasks or nodes that can exist at a single depth level\n",
    "parser.add_argument('--Depth', type=int, default=4) # depth of WF process\n",
    "parser.add_argument('--Max_children', type=int, default=3)\n",
    "parser.add_argument('--mu', type=int, default=1)\n",
    "parser.add_argument('--lamb', type=int, default=2)\n",
    "parser.add_argument('--num_wf', type=int, default=4)\n",
    "# parser.add_argument('--dag_samples', type=str, default='\\wf_samples\\cpuOnly_5_15_5' , nargs='+')\n",
    "\n",
    "#Cluster setup\n",
    "parser.add_argument('--max_t', type=int, default=60*3)\n",
    "parser.add_argument('--setupCost', type=float, default=0.2)\n",
    "parser.add_argument('--num_nodes', type=int, default= [10, 0] , nargs='+')\n",
    "\n",
    "#Scheduling rules\n",
    "parser.add_argument('--rule_list', type=str, default=['MC'], nargs='+')#['WCPT','WCPT+MC','MC','SJF','FCFS']#['WCPT','MC','WCPT+MC','SRPT','WCPT+SRPT','SJF','FCFS','EDD','COVERT','ATC']\n",
    "parser.add_argument('--SwitchThreshold', type=float, default=0.85, help='Threshold for WCPT+SRPT')\n",
    "parser.add_argument('--SwitchThreshold2_list', type=int, default=[2], nargs='+', help='Threshold for WCPT+MC(k)')\n",
    "\n",
    "#Task_parallelism\n",
    "parser.add_argument('--max_tk_parallel_list', type=int, default=[-1,1,2,3,4], nargs='+') #-1: dynamic parallelism\n",
    "parser.add_argument('--parallel_curve', type=float,  default=[1/N for N in range(1,20)], nargs='+') #[1.00,0.57,0.54,0.52,0.50,0.47,0.45,0.42,0.40,0.38]\n",
    "\n",
    "#Record\n",
    "\n",
    "#parser.add_argument('--draw_plot', type=bool, default=False, nargs='+')\n",
    "parser.add_argument('--draw_plot', type=bool, default=True, nargs='+')\n",
    "parser.add_argument('--queue_rec_start', type=int, default=10)\n",
    "parser.add_argument('--bin_size', type=int, default=60, help='cluster utilization record bin size in minute')\n",
    "\n",
    "    "
   ]
  },
  {
   "cell_type": "code",
   "execution_count": 18,
   "id": "d82c2f64",
   "metadata": {
    "executionInfo": {
     "elapsed": 8,
     "status": "ok",
     "timestamp": 1682472193613,
     "user": {
      "displayName": "Eunbi Han",
      "userId": "01734688534469709697"
     },
     "user_tz": 300
    },
    "id": "d82c2f64"
   },
   "outputs": [],
   "source": [
    "args = parser.parse_args()"
   ]
  },
  {
   "cell_type": "code",
   "execution_count": 19,
   "id": "265a553f",
   "metadata": {
    "executionInfo": {
     "elapsed": 366,
     "status": "ok",
     "timestamp": 1682472196587,
     "user": {
      "displayName": "Eunbi Han",
      "userId": "01734688534469709697"
     },
     "user_tz": 300
    },
    "id": "265a553f"
   },
   "outputs": [],
   "source": [
    "Width = args.Width\n",
    "Depth = args.Depth\n",
    "Max_children = args.Max_children\n",
    "mu = args.mu\n",
    "Totalsample = args.num_wf #num of WF generating  \n",
    "Image_pool = ['alpine:3.7','alpine:3.11','alpine:latest','debian:9.4','node:9.1-alpine','docker/whalesay:latest','influxdb:1.2']\n",
    "\n",
    "\n",
    "# samples from exponential distribution\n",
    "def interarrival_t(mean):\n",
    "    return -math.log(1.0 - random.random()) * mean\n",
    "\n",
    "def generator():\n",
    "    for count in range(Totalsample):\n",
    "        data = {'apiVersion': 'argoproj.io/v1alpha1','kind': 'Workflow'}\n",
    "        data['metadata']= {'generateName': 'sample'+str(count)}\n",
    "        data['spec'] = {'entrypoint': 'DAG_template'}\n",
    "       #Define DAG template\n",
    "        data['spec']['templates'] = [{}]\n",
    "        data['spec']['templates'][0]['name']= 'DAG_template'\n",
    "        data['spec']['templates'][0]['dag']= {'tasks':[]}\n",
    "\n",
    "        taskList = []\n",
    "        taskIdx = 1\n",
    "        for d in range(Depth):\n",
    "            if d == 0:\n",
    "                r = 1\n",
    "            else:\n",
    "                r = rand.randint(1,Width)\n",
    "            taskList.append(list(range(taskIdx,taskIdx+r)))\n",
    "            taskIdx = taskIdx+r\n",
    "\n",
    "        print('taskList',taskList)\n",
    "\n",
    "        #Determine dependancy\n",
    "        Dependency = [[] for i in range(taskIdx-1)]\n",
    "        for i in range(Depth):\n",
    "            #Nodes at depth level:0 doesn't have any dependency\n",
    "            if i == 0:\n",
    "                for j in taskList[i]:\n",
    "                    pass\n",
    "            #Nodes at depth level:1+ has at least one dependency on nodes at the upper level\n",
    "            else:\n",
    "                for j in taskList[i]:\n",
    "                    #Choose the number of precedent tasks (at least one, at most min[number of nodes at the upper level, Max_children])\n",
    "                    num_dependency = rand.randint(1,min(len(taskList[i-1]),Max_children))\n",
    "                    Dependency[j-1] = rand.sample(taskList[i-1],num_dependency)\n",
    "\n",
    "        G = nx.DiGraph()\n",
    "        G.add_edges_from([(j, i+1) for i in range(taskList[-1][-1]) for j in Dependency[i]])\n",
    "        print(G.edges)\n",
    "        print('number of operations n: ',len(G.nodes))\n",
    "        plt.figure(figsize=(4, 4))\n",
    "        pos = nx.spring_layout(G)\n",
    "        nx.draw_networkx(G,pos)\n",
    "        plt.show()\n",
    "\n",
    "    return G"
   ]
  },
  {
   "cell_type": "code",
   "execution_count": 20,
   "id": "7a53c134",
   "metadata": {
    "colab": {
     "base_uri": "https://localhost:8080/",
     "height": 1000
    },
    "executionInfo": {
     "elapsed": 3622,
     "status": "ok",
     "timestamp": 1682472201994,
     "user": {
      "displayName": "Eunbi Han",
      "userId": "01734688534469709697"
     },
     "user_tz": 300
    },
    "id": "7a53c134",
    "outputId": "72d8f1f8-6a7a-4f0d-9ec0-f2fdcb5bf7a4"
   },
   "outputs": [
    {
     "name": "stdout",
     "output_type": "stream",
     "text": [
      "taskList [[1], [2, 3, 4], [5, 6], [7, 8, 9]]\n",
      "[(1, 2), (1, 3), (1, 4), (2, 5), (2, 6), (3, 5), (4, 5), (5, 8), (5, 9), (6, 7), (6, 9)]\n",
      "number of operations n:  9\n"
     ]
    },
    {
     "data": {
      "image/png": "[encoded data removed]",
      "text/plain": [
       "<Figure size 400x400 with 1 Axes>"
      ]
     },
     "metadata": {},
     "output_type": "display_data"
    },
    {
     "name": "stdout",
     "output_type": "stream",
     "text": [
      "taskList [[1], [2], [3, 4, 5], [6, 7, 8]]\n",
      "[(1, 2), (2, 3), (2, 4), (2, 5), (3, 6), (3, 7), (3, 8), (4, 6), (4, 8), (5, 8)]\n",
      "number of operations n:  8\n"
     ]
    },
    {
     "data": {
      "image/png": "[encoded data removed]",
      "text/plain": [
       "<Figure size 400x400 with 1 Axes>"
      ]
     },
     "metadata": {},
     "output_type": "display_data"
    },
    {
     "name": "stdout",
     "output_type": "stream",
     "text": [
      "taskList [[1], [2], [3], [4, 5]]\n",
      "[(1, 2), (2, 3), (3, 4), (3, 5)]\n",
      "number of operations n:  5\n"
     ]
    },
    {
     "data": {
      "image/png": "[encoded data removed]",
      "text/plain": [
       "<Figure size 400x400 with 1 Axes>"
      ]
     },
     "metadata": {},
     "output_type": "display_data"
    },
    {
     "name": "stdout",
     "output_type": "stream",
     "text": [
      "taskList [[1], [2, 3, 4], [5], [6]]\n",
      "[(1, 2), (1, 3), (1, 4), (4, 5), (5, 6)]\n",
      "number of operations n:  6\n"
     ]
    },
    {
     "data": {
      "image/png": "[encoded data removed]",
      "text/plain": [
       "<Figure size 400x400 with 1 Axes>"
      ]
     },
     "metadata": {},
     "output_type": "display_data"
    }
   ],
   "source": [
    "G = generator()"
   ]
  },
  {
   "cell_type": "code",
   "execution_count": null,
   "id": "cc544173",
   "metadata": {},
   "outputs": [],
   "source": [
    "import json\n",
    "\n",
    "\n",
    "file_path = \"/content/drive/MyDrive/graph.json\"\n",
    "\n",
    "with open(file_path,'w')as f:\n",
    "    data = {\n",
    "      'nodes':list(G.nodes),\n",
    "      'edges':list(G.edges)\n",
    "  }\n",
    "    json.dump(data,f)\n",
    "\n",
    "print(\"Data saved to file:\", file_path)\n"
   ]
  }
 ],
 "metadata": {
  "colab": {
   "provenance": []
  },
  "kernelspec": {
   "display_name": "Python 3 (ipykernel)",
   "language": "python",
   "name": "python3"
  },
  "language_info": {
   "codemirror_mode": {
    "name": "ipython",
    "version": 3
   },
   "file_extension": ".py",
   "mimetype": "text/x-python",
   "name": "python",
   "nbconvert_exporter": "python",
   "pygments_lexer": "ipython3",
   "version": "3.10.10"
  }
 },
 "nbformat": 4,
 "nbformat_minor": 5
}

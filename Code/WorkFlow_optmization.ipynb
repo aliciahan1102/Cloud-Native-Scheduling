{
 "cells": [
  {
   "cell_type": "code",
   "execution_count": null,
   "id": "fe76f7cf",
   "metadata": {
    "colab": {
     "base_uri": "https://localhost:8080/"
    },
    "executionInfo": {
     "elapsed": 11847,
     "status": "ok",
     "timestamp": 1682472503909,
     "user": {
      "displayName": "Yoonhwan Kang",
      "userId": "10807261328492321670"
     },
     "user_tz": 300
    },
    "id": "fe76f7cf",
    "outputId": "da17bafe-019f-4c2d-c122-1ed5025973f7"
   },
   "outputs": [],
   "source": [
    "pip install gurobipy"
   ]
  },
  {
   "cell_type": "code",
   "execution_count": null,
   "id": "5e330ad7",
   "metadata": {
    "executionInfo": {
     "elapsed": 154,
     "status": "ok",
     "timestamp": 1682473201113,
     "user": {
      "displayName": "Eunbi Han",
      "userId": "01734688534469709697"
     },
     "user_tz": 300
    },
    "id": "5e330ad7"
   },
   "outputs": [],
   "source": [
    "import sys\n",
    "import time\n",
    "import json\n",
    "import gurobipy as gp\n",
    "import random\n",
    "from gurobipy import *\n",
    "from gurobipy import GRB"
   ]
  },
  {
   "cell_type": "code",
   "execution_count": null,
   "id": "KQJKa9W1LV8i",
   "metadata": {
    "colab": {
     "base_uri": "https://localhost:8080/"
    },
    "executionInfo": {
     "elapsed": 13328,
     "status": "ok",
     "timestamp": 1682473215196,
     "user": {
      "displayName": "Eunbi Han",
      "userId": "01734688534469709697"
     },
     "user_tz": 300
    },
    "id": "KQJKa9W1LV8i",
    "outputId": "fac3fb26-707c-4068-8e7d-2d910b4ef2e2"
   },
   "outputs": [],
   "source": [
    "from google.colab import drive\n",
    "drive.mount('/content/drive')"
   ]
  },
  {
   "cell_type": "code",
   "execution_count": null,
   "id": "s-sQmdd8JexK",
   "metadata": {
    "executionInfo": {
     "elapsed": 486,
     "status": "ok",
     "timestamp": 1682473589860,
     "user": {
      "displayName": "Eunbi Han",
      "userId": "01734688534469709697"
     },
     "user_tz": 300
    },
    "id": "s-sQmdd8JexK"
   },
   "outputs": [],
   "source": [
    "#import graph\n",
    "\n",
    "import json\n",
    "import networkx as nx\n",
    "\n",
    "with open('/content/drive/MyDrive/Group Project_Big Graph/Code/Final version/graph.json','r') as f:\n",
    "      data = json.load(f)\n",
    "\n",
    "G = nx.Graph()\n",
    "G.add_nodes_from(data['nodes'])\n",
    "G.add_edges_from(data['edges'])\n",
    "\n",
    "n = len(G.nodes)\n",
    "I = G.edges()"
   ]
  },
  {
   "cell_type": "markdown",
   "id": "9a245c0c",
   "metadata": {},
   "source": [
    "## Optimize Workflow using Gurobi"
   ]
  },
  {
   "cell_type": "code",
   "execution_count": null,
   "id": "9927ea94",
   "metadata": {
    "colab": {
     "base_uri": "https://localhost:8080/"
    },
    "executionInfo": {
     "elapsed": 281,
     "status": "ok",
     "timestamp": 1682473611612,
     "user": {
      "displayName": "Eunbi Han",
      "userId": "01734688534469709697"
     },
     "user_tz": 300
    },
    "id": "9927ea94",
    "outputId": "59a43a02-5ce1-4096-8752-4dc497dfb0e2",
    "scrolled": true
   },
   "outputs": [],
   "source": [
    "try :     \n",
    "    model = gp.Model(\"assembly_scheduling_problem\")\n",
    "\n",
    "    # Parameters **\n",
    "    n = 10 # Number of operations n (= number of nodes in graph)\n",
    "    N = [i+1 for i in range(n)] # set of n operations \n",
    "\n",
    "    # Define the O dictionary to denote each operation i\n",
    "    O = {i+1: f\"O[{i+1}]\" for i in range(n)}\n",
    "\n",
    "    k = 10 # example of w work centers\n",
    "    Y = [i+1 for i in range(k)] # set of w work centers\n",
    "    #f[Y]= num of machines in workcenter Y\n",
    "    f = [random.randint(1, 5) for _ in range(len(Y))]\n",
    "    #define I[Y] : set of operations that requires workcenter Y\n",
    "    #I_Y= {y: [] for y in Y}\n",
    "  \n",
    "    #I = [(1, 2), (1, 3), (2, 4), (2, 5), (3, 4), (3, 5), (4, 7), (5, 6), (5, 7)]\n",
    "\n",
    "    s = {}\n",
    "    for s_j, j in I:\n",
    "        s[j] = s_j\n",
    "  \n",
    "\n",
    "    #Variables \n",
    "\n",
    "    # Z (ub = infinity)\n",
    "    Z = model.addVar(0.0,GRB.INFINITY,0.0,vtype=GRB.CONTINUOUS, name=\"Z\")\n",
    "\n",
    "    # S_j : starting time of operation j\n",
    "    S = model.addVars(N, vtype=GRB.CONTINUOUS, name=\"S\")\n",
    "    # ES_j : earliest starting time of operation j \n",
    "    ES= model.addVars(N, vtype=GRB.CONTINUOUS, name=\"ES\")\n",
    "\n",
    "    # F_j Finishing time of operation j \n",
    "    F = model.addVars(N, vtype=GRB.CONTINUOUS, name=\"F\")\n",
    "\n",
    "    # Define the range for random processing times\n",
    "    min_processing_time = 1\n",
    "    max_processing_time = 5\n",
    "    # Generate random processing times for each operation\n",
    "    t = {}\n",
    "  \n",
    "    for j in N:\n",
    "        t[j] = random.randint(min_processing_time, max_processing_time)\n",
    "\n",
    "    print(t)\n",
    "    # h_j index of work center - operation j is designated to \n",
    "    # create dictionary to holde the decision var \n",
    "    h = model.addVars(N, vtype=GRB.INTEGER, name=\"h\")\n",
    "\n",
    "\n",
    "    #Binary variable Psi = (V)\n",
    "    V = model.addVars(N,N, vtype=GRB.BINARY, name=\"V\")\n",
    "    for i, j in I:\n",
    "        if j in s and s[j] == i:\n",
    "            model.addConstr(V[i, j] == 1, name=f\"V_constr_{i}_{j}\")\n",
    "        else:\n",
    "            model.addConstr(V[i, j] == 0, name=f\"V_constr_{i}_{j}\")\n",
    "\n",
    "    #Binary variable Phi[j][y]\n",
    "\n",
    "    phi = model.addVars(N, Y, vtype=GRB.BINARY, name=\"phi\")\n",
    "    #some_condition=True\n",
    "    for j in N:\n",
    "        for y in Y:\n",
    "                if j in s:\n",
    "                    model.addConstr(phi[j, y] == 1, name=f\"phi_constr_{j}_{w}\")\n",
    "                else:\n",
    "                    model.addConstr(phi[j, y] == 0, name=f\"phi_constr_{j}_{w}\")\n",
    "\n",
    "    #binary variable X[i][j]         \n",
    "    X = model.addVars(I, vtype=GRB.BINARY, name=\"X\")\n",
    "    for i, j in I:\n",
    "        if j in s and s.get(i) == j:\n",
    "            model.addConstr(X[i, j] == 1, name=f\"X_constr_{i}_{j}\")\n",
    "        else:\n",
    "            model.addConstr(X[i, j] == 0, name=f\"X_constr_{i}_{j}\")\n",
    "\n",
    "\n",
    "\n",
    "    # add constraints \n",
    "    M = 1000  # Large constant value for constraints\n",
    "    # Constraints1\n",
    "    for i, j in I:\n",
    "            model.addConstr(S[j] >= F[i]) \n",
    "           #model.addConstr(S[j] >= F[i] - M * (1 - X[i, j]))\n",
    "\n",
    "    for j in N:\n",
    "        model.addConstr(S[j] >= ES[j])  # constraint 2\n",
    "        model.addConstr(F[j] <= Z)  # constraint 3\n",
    "        model.addConstr(F[j] == S[j] + t[j])  # constraint 4\n",
    "    # Constraint 5\n",
    "    for i in N:\n",
    "        for j in N:\n",
    "            if i != j:\n",
    "                model.addConstr(V[i, j] + V[j, i] == 1, name=f\"constr5_{i}_{j}\")\n",
    "    # constraint 6                    \n",
    "    for i, j in I:\n",
    "        if i != j:\n",
    "            for w in range(len(Y)):\n",
    "                for y in range(1,f[w]+1): \n",
    "                    model.addConstr(S[i] - F[j] >= (V[i, j] + phi[j, y] + phi[i, y] - 3) * M)\n",
    "    # constraint 7\n",
    "  \n",
    "    for w in range(len(f)):\n",
    "        for j in N:\n",
    "            model.addConstr(sum(phi[j,y] for y in range(1, f[w]+1)) == 1)\n",
    "\n",
    "    #Objective function: minimize total processing time\n",
    "    model.setObjective(Z, GRB.MINIMIZE)\n",
    "\n",
    "    model.optimize()\n",
    "except Exception as e:\n",
    "    print(\"Cannot progress the program\")"
   ]
  }
 ],
 "metadata": {
  "colab": {
   "provenance": []
  },
  "kernelspec": {
   "display_name": "Python 3 (ipykernel)",
   "language": "python",
   "name": "python3"
  },
  "language_info": {
   "codemirror_mode": {
    "name": "ipython",
    "version": 3
   },
   "file_extension": ".py",
   "mimetype": "text/x-python",
   "name": "python",
   "nbconvert_exporter": "python",
   "pygments_lexer": "ipython3",
   "version": "3.10.10"
  }
 },
 "nbformat": 4,
 "nbformat_minor": 5
}
